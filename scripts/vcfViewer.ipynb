{
 "cells": [
  {
   "cell_type": "code",
   "execution_count": 1,
   "metadata": {},
   "outputs": [],
   "source": [
    "import pandas as pd\n",
    "import sys\n",
    "import os\n",
    "sys.path.append(os.path.abspath(os.path.join(\"..\")))\n",
    "from config import *"
   ]
  },
  {
   "cell_type": "code",
   "execution_count": 16,
   "metadata": {},
   "outputs": [
    {
     "name": "stdout",
     "output_type": "stream",
     "text": [
      "       0       1          2  3  4         5     6  \\\n",
      "0  chr16  103517   rs183360  A  C  269459.0  PASS   \n",
      "1  chr16  128179  rs2562162  T  C   36367.0  PASS   \n",
      "2  chr16  136142  rs2541623  C  T  152901.0  PASS   \n",
      "3  chr16  136258  rs2541622  A  G  247198.0  PASS   \n",
      "4  chr16  337750   rs395545  C  G  144647.0  PASS   \n",
      "\n",
      "                                                   7         8             9  \n",
      "0  AC=2;AF=1;AN=2;BaseQRankSum=-0.045;ClippingRan...  GT:AD:DP   1/1:0,29:29  \n",
      "1  AC=2;AF=0.889;AN=2;BaseQRankSum=2.824;Clipping...  GT:AD:DP     1/1:0,1:1  \n",
      "2  AC=1;AF=0.847;AN=2;BaseQRankSum=-9.006;Clippin...  GT:AD:DP  0/1:20,31:51  \n",
      "3  AC=1;AF=0.824;AN=2;BaseQRankSum=10.854;Clippin...  GT:AD:DP  0/1:34,29:63  \n",
      "4  AC=2;AF=0.99;AN=2;BaseQRankSum=-1.367;Clipping...  GT:AD:DP   1/1:0,19:19  \n"
     ]
    }
   ],
   "source": [
    "vcf_file = vcf_path +\"/cases/CD5.vcf\"\n",
    "df = pd.read_csv(vcf_file, comment='#', delimiter='\\t', header=None)\n",
    "\n",
    "# Display the first 5 rows\n",
    "print(df.head())\n",
    "#df.to_csv(vcf_path + \"/exome-3.csv\", index=False, header=False)"
   ]
  },
  {
   "cell_type": "code",
   "execution_count": 15,
   "metadata": {},
   "outputs": [
    {
     "name": "stdout",
     "output_type": "stream",
     "text": [
      "       0       1          2  3  4         5     6  \\\n",
      "0  chr16  103517   rs183360  A  C  269459.0  PASS   \n",
      "1  chr16  128179  rs2562162  T  C   36367.0  PASS   \n",
      "2  chr16  136142  rs2541623  C  T  152901.0  PASS   \n",
      "3  chr16  136258  rs2541622  A  G  247198.0  PASS   \n",
      "4  chr16  337750   rs395545  C  G  144647.0  PASS   \n",
      "\n",
      "                                                   7         8            9  \n",
      "0  AC=2;AF=1;AN=2;BaseQRankSum=-0.045;ClippingRan...  GT:AD:DP  1/1:0,61:61  \n",
      "1  AC=2;AF=0.889;AN=2;BaseQRankSum=2.824;Clipping...  GT:AD:DP  1/1:0,11:11  \n",
      "2  AC=2;AF=0.847;AN=2;BaseQRankSum=-9.006;Clippin...  GT:AD:DP  1/1:0,40:40  \n",
      "3  AC=2;AF=0.824;AN=2;BaseQRankSum=10.854;Clippin...  GT:AD:DP  1/1:0,93:93  \n",
      "4  AC=2;AF=0.99;AN=2;BaseQRankSum=-1.367;Clipping...  GT:AD:DP  1/1:0,32:32  \n"
     ]
    }
   ],
   "source": [
    "vcf_file = vcf_path +\"/control/HC5.vcf\"\n",
    "df = pd.read_csv(vcf_file, comment='#', delimiter='\\t', header=None)\n",
    "\n",
    "# Display the first 5 rows\n",
    "print(df.head())\n",
    "#df.to_csv(vcf_path + \"/exome-2.csv\", index=False, header=False)"
   ]
  }
 ],
 "metadata": {
  "kernelspec": {
   "display_name": "capstone_env",
   "language": "python",
   "name": "python3"
  },
  "language_info": {
   "codemirror_mode": {
    "name": "ipython",
    "version": 3
   },
   "file_extension": ".py",
   "mimetype": "text/x-python",
   "name": "python",
   "nbconvert_exporter": "python",
   "pygments_lexer": "ipython3",
   "version": "3.10.12"
  }
 },
 "nbformat": 4,
 "nbformat_minor": 2
}
