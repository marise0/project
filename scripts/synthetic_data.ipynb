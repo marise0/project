{
 "cells": [
  {
   "cell_type": "code",
   "execution_count": 5,
   "metadata": {},
   "outputs": [],
   "source": [
    "import pandas as pd\n",
    "import numpy as np\n",
    "import sys\n",
    "import os\n",
    "sys.path.append(os.path.abspath(os.path.join(\"..\")))\n",
    "from config import *"
   ]
  },
  {
   "cell_type": "code",
   "execution_count": 11,
   "metadata": {},
   "outputs": [
    {
     "name": "stdout",
     "output_type": "stream",
     "text": [
      "  patient_id  exonic  UTR3  UTR5  ncRNA_exonic  ncRNA_intronic  upstream  \\\n",
      "0  Patient-1      25    11    23            19              16        20   \n",
      "1  Patient-2      27     3    31             6               1        18   \n",
      "2  Patient-3      27    25     9            24              31        28   \n",
      "3  Patient-4       4    29     0            15              28         6   \n",
      "4  Patient-5      18     9    10            22              18        14   \n",
      "\n",
      "   downstream  intronic  splicing  label  \n",
      "0          19        20        27      0  \n",
      "1           0        27        25      0  \n",
      "2          23        27         5      0  \n",
      "3          11        12         2      1  \n",
      "4           0        10        14      0  \n"
     ]
    }
   ],
   "source": [
    "# Define the number of rows\n",
    "num_rows = 90\n",
    "# Generate random patient IDs\n",
    "patient_ids = [f\"Patient-{i}\" for i in range(1, num_rows + 1)]\n",
    "# Generate random values for each column\n",
    "data = {\n",
    "    \"patient_id\": patient_ids,\n",
    "    \"exonic\": np.random.randint(0, 33, num_rows),\n",
    "    \"UTR3\": np.random.randint(0, 33, num_rows),\n",
    "    \"UTR5\": np.random.randint(0, 33, num_rows),\n",
    "    \"ncRNA_exonic\": np.random.randint(0, 33, num_rows),\n",
    "    \"ncRNA_intronic\": np.random.randint(0, 33, num_rows),\n",
    "    \"upstream\": np.random.randint(0, 33, num_rows),\n",
    "    \"downstream\": np.random.randint(0, 33, num_rows),\n",
    "    \"intronic\": np.random.randint(0, 33, num_rows),  # Random intronic count\n",
    "    \"splicing\": np.random.randint(0, 33, num_rows),\n",
    "    \"label\": np.random.randint(0, 2, num_rows)  # Binary classification\n",
    "}\n",
    "# Create DataFrame\n",
    "df = pd.DataFrame(data)\n",
    "# Display the first few rows\n",
    "print(df.head())"
   ]
  },
  {
   "cell_type": "code",
   "execution_count": 12,
   "metadata": {},
   "outputs": [],
   "source": [
    "# Save to CSV if needed\n",
    "df.to_csv(vcf_path+\"/synthetic_data.csv\", index=False)"
   ]
  }
 ],
 "metadata": {
  "kernelspec": {
   "display_name": "capstone",
   "language": "python",
   "name": "python3"
  },
  "language_info": {
   "codemirror_mode": {
    "name": "ipython",
    "version": 3
   },
   "file_extension": ".py",
   "mimetype": "text/x-python",
   "name": "python",
   "nbconvert_exporter": "python",
   "pygments_lexer": "ipython3",
   "version": "3.10.12"
  }
 },
 "nbformat": 4,
 "nbformat_minor": 2
}
