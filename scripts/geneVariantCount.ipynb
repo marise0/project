{
 "cells": [
  {
   "cell_type": "code",
   "execution_count": 1,
   "metadata": {},
   "outputs": [],
   "source": [
    "import pandas as pd\n",
    "import glob\n",
    "import os\n",
    "import sys\n",
    "sys.path.append(os.path.abspath(os.path.join('..')))\n",
    "from config import *"
   ]
  },
  {
   "cell_type": "code",
   "execution_count": 2,
   "metadata": {},
   "outputs": [],
   "source": [
    "#path to txt files\n",
    "file_path_cases = output_path+'/cases/*multianno.txt'\n",
    "#list all txt files\n",
    "cases = glob.glob(file_path_cases)\n",
    "\n",
    "file_path_controls = output_path+'/control/*multianno.txt'\n",
    "control = glob.glob(file_path_controls)"
   ]
  },
  {
   "cell_type": "code",
   "execution_count": 4,
   "metadata": {},
   "outputs": [],
   "source": [
    "categories = ['exonic', 'UTR3', 'UTR5', 'ncRNA_exonic', 'ncRNA_intronic', 'upstream', 'downstream', 'intronic', 'splicing']\n",
    "final_results = pd.DataFrame(columns=['patient_id'] + categories + ['label'])"
   ]
  },
  {
   "cell_type": "code",
   "execution_count": null,
   "metadata": {},
   "outputs": [
    {
     "name": "stdout",
     "output_type": "stream",
     "text": [
      "    patient_id exonic UTR3 UTR5 ncRNA_exonic ncRNA_intronic upstream  \\\n",
      "0          CD1      0    0    0            0              0        0   \n",
      "1         CD10      0    0    0            0              0        0   \n",
      "2         CD11      0    0    0            0              0        0   \n",
      "3         CD12      0    0    0            0              0        0   \n",
      "4         CD13      0    0    0            0              0        0   \n",
      "..         ...    ...  ...  ...          ...            ...      ...   \n",
      "106        HC5      0    0    0            0              0        0   \n",
      "107        HC6      0    0    0            0              0        0   \n",
      "108        HC7      0    0    0            0              0        0   \n",
      "109        HC8      0    0    0            0              0        0   \n",
      "110        HC9      0    0    0            0              0        0   \n",
      "\n",
      "    downstream intronic splicing label  \n",
      "0            0        0        0     1  \n",
      "1            0        0        0     1  \n",
      "2            0        0        0     1  \n",
      "3            0        0        0     1  \n",
      "4            0        0        0     1  \n",
      "..         ...      ...      ...   ...  \n",
      "106          0        0        0     0  \n",
      "107          0        0        0     0  \n",
      "108          0        0        0     0  \n",
      "109          0        0        0     0  \n",
      "110          0        0        0     0  \n",
      "\n",
      "[111 rows x 11 columns]\n"
     ]
    }
   ],
   "source": [
    "target_gene = 'NOD2'\n",
    "for file in cases + control:\n",
    "    df = pd.read_csv(file, sep=\"\\t\", usecols=[0, 1, 2, 3, 4, 5, 6, 8], low_memory=False)\n",
    "    patient_id = file.split(\"/\")[-1].replace(\".hg19_multianno.txt\", \"\")\n",
    "    function_col = 'Func.refGene'\n",
    "    genes_col = 'Gene.refGene'\n",
    "    # Filter for the target gene and non-synonymous variants\n",
    "    df_filtered = df[df[genes_col].str.contains(r'\\b' + target_gene + r'\\b', case=False)]\n",
    "    #df_filtered = df_filtered[df_filtered['ExonicFunc.refGene'] != 'synonymous SNV']\n",
    "    # Count variants by category\n",
    "    variant_counts = df_filtered[function_col].value_counts().reindex(categories, fill_value=0)\n",
    "    # Determine the label (1 for cases, 0 for controls)\n",
    "    label = 1 if \"cases\" in file else 0\n",
    "    # Create a result row\n",
    "    result_row = pd.DataFrame([[patient_id] + list(variant_counts) + [label]], columns=['patient_id'] + categories + ['label'])\n",
    "    # Append the result row to the final results\n",
    "    final_results = pd.concat([final_results, result_row], ignore_index=True)\n",
    "\n",
    "final_results.to_csv(vcf_path + \"/gene_variant_counts.csv\", index=False)\n",
    "print(final_results)"
   ]
  }
 ],
 "metadata": {
  "kernelspec": {
   "display_name": "capstone_env",
   "language": "python",
   "name": "python3"
  },
  "language_info": {
   "codemirror_mode": {
    "name": "ipython",
    "version": 3
   },
   "file_extension": ".py",
   "mimetype": "text/x-python",
   "name": "python",
   "nbconvert_exporter": "python",
   "pygments_lexer": "ipython3",
   "version": "3.10.12"
  }
 },
 "nbformat": 4,
 "nbformat_minor": 2
}
