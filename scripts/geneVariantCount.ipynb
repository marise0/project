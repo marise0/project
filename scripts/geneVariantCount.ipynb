{
 "cells": [
  {
   "cell_type": "code",
   "execution_count": 1,
   "metadata": {},
   "outputs": [],
   "source": [
    "import pandas as pd\n",
    "import glob\n",
    "import os\n",
    "import sys\n",
    "sys.path.append(os.path.abspath(os.path.join('..')))\n",
    "from config import *"
   ]
  },
  {
   "cell_type": "code",
   "execution_count": null,
   "metadata": {},
   "outputs": [],
   "source": [
    "file_path_cases = output_path+'/cases/*multianno.txt'\n",
    "#list all txt files\n",
    "cases = glob.glob(file_path_cases)\n",
    "\n",
    "file_path_controls = output_path+'/control/*multianno.txt'\n",
    "control = glob.glob(file_path_controls)"
   ]
  },
  {
   "cell_type": "code",
   "execution_count": null,
   "metadata": {},
   "outputs": [
    {
     "name": "stdout",
     "output_type": "stream",
     "text": [
      "    patient_id ATG16L1 NOD2 PTPN22 LACC1 IL23R SLC39A8 CARD9 FUT2 PTAFR HGFAC  \\\n",
      "0         HC22       2    1      2     1     0       0     1    0     0     0   \n",
      "1         CD19       1    0      2     1     0       0     2    1     0     0   \n",
      "2         CD13       1    0      2     1     0       0     0    2     0     0   \n",
      "3         HC28       1    0      2     2     0       0     2    0     0     0   \n",
      "4          HC1       2    0      2     0     0       0     1    1     0     0   \n",
      "..         ...     ...  ...    ...   ...   ...     ...   ...  ...   ...   ...   \n",
      "106        HC5       2    0      2     0     0       0     1    0     0     0   \n",
      "107       CD22       0    0      2     0     1       1     0    0     0     0   \n",
      "108       HC35       0    0      1     1     0       0     1    1     0     0   \n",
      "109       CD56       0    0      2     2     0       0     2    1     0     0   \n",
      "110       HC44       0    0      2     1     0       1     1    1     0     1   \n",
      "\n",
      "    TAGAP DOK2 RELA IL10RA CCR7 SDF2L1 label  \n",
      "0       0    0    0      0    0      0     0  \n",
      "1       0    0    0      0    0      0     1  \n",
      "2       0    0    0      0    0      0     1  \n",
      "3       0    0    0      0    0      0     0  \n",
      "4       0    0    1      0    0      0     0  \n",
      "..    ...  ...  ...    ...  ...    ...   ...  \n",
      "106     0    0    0      0    0      0     0  \n",
      "107     0    1    0      0    0      1     1  \n",
      "108     0    0    0      0    0      0     0  \n",
      "109     0    0    0      0    1      0     1  \n",
      "110     0    0    0      0    0      0     0  \n",
      "\n",
      "[111 rows x 18 columns]\n"
     ]
    }
   ],
   "source": [
    "genes =[\"ATG16L1\", \"NOD2\", \"PTPN22\", \"LACC1\", \"IL23R\", \"SLC39A8\", \"CARD9\", \"FUT2\", \"PTAFR\", \"HGFAC\", \"TAGAP\", \n",
    "    \"DOK2\", \"RELA\", \"IL10RA\", \"CCR7\", \"SDF2L1\"] # Genes to consider\n",
    "final_results = pd.DataFrame(columns=['patient_id'] + genes + ['label'])\n",
    "\n",
    "for file in cases + control:\n",
    "    df = pd.read_csv(file, sep=\"\\t\", low_memory=False)\n",
    "    patient_id = file.split(\"/\")[-1].replace(\".hg19_multianno.txt\", \"\")\n",
    "    function_col = 'Func.refGene'\n",
    "    genes_col = 'Gene.refGene'\n",
    "    gt = df.columns[-1]\n",
    "    # Apply lambda to assign variant counts: 2 for homozygous (1/1), 1 for heterozygous (1/0 or 0/1)\n",
    "    df['variant_count'] = df[gt].apply(lambda x: 2 if x.startswith('1/1') else 1)\n",
    "    # Group by gene and calculate the sum of variant counts\n",
    "    gene_variant_counts = df.groupby(genes_col)['variant_count'].sum()\n",
    "    variant_counts = gene_variant_counts.reindex(genes, fill_value=0)\n",
    "    label = 1 if \"cases\" in file else 0\n",
    "    result_row = pd.DataFrame([[patient_id] + variant_counts.tolist() + [label]], columns=['patient_id'] + genes + ['label'])\n",
    "    final_results = pd.concat([final_results, result_row], ignore_index=True)\n",
    "final_results = final_results.sample(frac=1, random_state=42).reset_index(drop=True)\n",
    "final_results.to_csv(vcf_path + \"/GenotypeCounts.csv\", index=False)\n",
    "print(final_results)\n"
   ]
  }
 ],
 "metadata": {
  "kernelspec": {
   "display_name": "capstone_env",
   "language": "python",
   "name": "python3"
  },
  "language_info": {
   "codemirror_mode": {
    "name": "ipython",
    "version": 3
   },
   "file_extension": ".py",
   "mimetype": "text/x-python",
   "name": "python",
   "nbconvert_exporter": "python",
   "pygments_lexer": "ipython3",
   "version": "3.10.12"
  }
 },
 "nbformat": 4,
 "nbformat_minor": 2
}
