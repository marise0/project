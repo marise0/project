{
 "cells": [
  {
   "cell_type": "code",
   "execution_count": 7,
   "metadata": {},
   "outputs": [],
   "source": [
    "import pandas as pd\n",
    "import glob\n",
    "import os\n",
    "import sys\n",
    "sys.path.append(os.path.abspath(os.path.join('..')))\n",
    "from config import *"
   ]
  },
  {
   "cell_type": "code",
   "execution_count": 8,
   "metadata": {},
   "outputs": [],
   "source": [
    "#path to txt files\n",
    "file_path_cases = output_path+'/cases/*multianno.txt'\n",
    "#list all txt files\n",
    "cases = glob.glob(file_path_cases)\n",
    "\n",
    "file_path_controls = output_path+'/control/*multianno.txt'\n",
    "control = glob.glob(file_path_controls)"
   ]
  },
  {
   "cell_type": "code",
   "execution_count": 21,
   "metadata": {},
   "outputs": [],
   "source": [
    "categories = ['exonic', 'UTR3', 'UTR5']\n",
    "final_results = pd.DataFrame(columns=['patient_id'] + categories + ['label'])"
   ]
  },
  {
   "cell_type": "code",
   "execution_count": 22,
   "metadata": {},
   "outputs": [
    {
     "name": "stdout",
     "output_type": "stream",
     "text": [
      "    patient_id exonic UTR3 UTR5 label\n",
      "0         HC22      4    2    0     0\n",
      "1         CD19      2    2    0     1\n",
      "2         CD13      5    2    1     1\n",
      "3         HC28      2    1    1     0\n",
      "4          HC1      2    1    1     0\n",
      "..         ...    ...  ...  ...   ...\n",
      "106        HC5      4    1    1     0\n",
      "107       CD22      6    2    1     1\n",
      "108       HC35      4    2    1     0\n",
      "109       CD56      3    2    0     1\n",
      "110       HC44      2    2    0     0\n",
      "\n",
      "[111 rows x 5 columns]\n"
     ]
    }
   ],
   "source": [
    "target_gene = 'NOD2'\n",
    "for file in cases + control:\n",
    "    df = pd.read_csv(file, sep=\"\\t\", low_memory=False)\n",
    "    patient_id = file.split(\"/\")[-1].replace(\".hg19_multianno.txt\", \"\")\n",
    "    function_col = 'Func.refGene'\n",
    "    genes_col = 'Gene.refGene'\n",
    "    df_filtered = df[df[genes_col].str.contains(r'\\b' + target_gene + r'\\b', case=False)]\n",
    "    variant_counts = df_filtered[function_col].value_counts().reindex(categories, fill_value=0)\n",
    "    label = 1 if \"cases\" in file else 0\n",
    "    result_row = pd.DataFrame([[patient_id] + list(variant_counts) + [label]], columns=['patient_id'] + categories + ['label'])\n",
    "    final_results = pd.concat([final_results, result_row], ignore_index=True)\n",
    "final_results = final_results.sample(frac=1, random_state=42).reset_index(drop=True)\n",
    "final_results.to_csv(vcf_path + \"/shuffled.csv\", index=False)\n",
    "print(final_results)"
   ]
  }
 ],
 "metadata": {
  "kernelspec": {
   "display_name": "capstone_env",
   "language": "python",
   "name": "python3"
  },
  "language_info": {
   "codemirror_mode": {
    "name": "ipython",
    "version": 3
   },
   "file_extension": ".py",
   "mimetype": "text/x-python",
   "name": "python",
   "nbconvert_exporter": "python",
   "pygments_lexer": "ipython3",
   "version": "3.10.12"
  }
 },
 "nbformat": 4,
 "nbformat_minor": 2
}
