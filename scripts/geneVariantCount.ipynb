{
 "cells": [
  {
   "cell_type": "code",
   "execution_count": 1,
   "metadata": {},
   "outputs": [],
   "source": [
    "import pandas as pd\n",
    "import glob\n",
    "import os\n",
    "import sys\n",
    "sys.path.append(os.path.abspath(os.path.join('..')))\n",
    "from config import *"
   ]
  },
  {
   "cell_type": "code",
   "execution_count": 2,
   "metadata": {},
   "outputs": [],
   "source": [
    "#path to txt files\n",
    "file_path_cases = output_path+'/cases/*multianno.txt'\n",
    "#list all txt files\n",
    "cases = glob.glob(file_path_cases)\n",
    "\n",
    "file_path_controls = output_path+'/control/*multianno.txt'\n",
    "control = glob.glob(file_path_controls)"
   ]
  },
  {
   "cell_type": "code",
   "execution_count": null,
   "metadata": {},
   "outputs": [
    {
     "name": "stdout",
     "output_type": "stream",
     "text": [
      "    patient_id exonic label\n",
      "0          CD1      4     1\n",
      "1         CD10      5     1\n",
      "2         CD11      3     1\n",
      "3         CD12      4     1\n",
      "4         CD13      3     1\n",
      "..         ...    ...   ...\n",
      "106        HC5      2     0\n",
      "107        HC6      3     0\n",
      "108        HC7      2     0\n",
      "109        HC8      3     0\n",
      "110        HC9      2     0\n",
      "\n",
      "[111 rows x 3 columns]\n"
     ]
    }
   ],
   "source": [
    "categories = ['PTPN22','LACC1','NOD2','TYK2','IL23R']  # Only consider the exonic category\n",
    "final_results = pd.DataFrame(columns=['patient_id'] + categories + ['label'])\n",
    "\n",
    "for file in cases + control:\n",
    "    df = pd.read_csv(file, sep=\"\\t\", low_memory=False)\n",
    "    patient_id = file.split(\"/\")[-1].replace(\".hg19_multianno.txt\", \"\")\n",
    "    function_col = 'Func.refGene'\n",
    "    genes_col = 'Gene.refGene'\n",
    "    gt = df.columns[-1]\n",
    "    df['variant_count'] = df[gt].apply(lambda x: 2 if x.startswith('1/1') else 1)\n",
    "    variant_counts = df.groupby(function_col)['variant_count'].sum().reindex(categories, fill_value=0)\n",
    "    label = 1 if \"cases\" in file else 0\n",
    "    result_row = pd.DataFrame([[patient_id] + list(variant_counts) + [label]], columns=['patient_id'] + categories + ['label'])\n",
    "    final_results = pd.concat([final_results, result_row], ignore_index=True)\n",
    "#final_results = final_results.sample(frac=1, random_state=42).reset_index(drop=True)\n",
    "final_results.to_csv(vcf_path + \"/ExonicVariantsCounts.csv\", index=False)\n",
    "print(final_results)"
   ]
  },
  {
   "cell_type": "code",
   "execution_count": 4,
   "metadata": {},
   "outputs": [
    {
     "name": "stdout",
     "output_type": "stream",
     "text": [
      "    patient_id PTPN22 LACC1 NOD2 TYK2 IL23R label\n",
      "0         HC22      2     1    1    0     0     0\n",
      "1         CD19      2     1    0    1     0     1\n",
      "2         CD13      2     1    0    0     0     1\n",
      "3         HC28      2     2    0    0     1     0\n",
      "4          HC1      2     0    0    0     0     0\n",
      "..         ...    ...   ...  ...  ...   ...   ...\n",
      "106        HC5      2     0    0    0     0     0\n",
      "107       CD22      2     0    0    0     1     1\n",
      "108       HC35      1     1    0    0     0     0\n",
      "109       CD56      2     2    0    0     0     1\n",
      "110       HC44      2     1    0    0     0     0\n",
      "\n",
      "[111 rows x 7 columns]\n"
     ]
    }
   ],
   "source": [
    "categories = ['PTPN22', 'LACC1', 'NOD2', 'TYK2', 'IL23R']  # Genes to consider\n",
    "final_results = pd.DataFrame(columns=['patient_id'] + categories + ['label'])\n",
    "\n",
    "for file in cases + control:\n",
    "    df = pd.read_csv(file, sep=\"\\t\", low_memory=False)\n",
    "    patient_id = file.split(\"/\")[-1].replace(\".hg19_multianno.txt\", \"\")\n",
    "    function_col = 'Func.refGene'\n",
    "    genes_col = 'Gene.refGene'\n",
    "    gt = df.columns[-1]\n",
    "\n",
    "    # Apply lambda to assign variant counts: 2 for homozygous (1/1), 1 for heterozygous (1/0 or 0/1)\n",
    "    df['variant_count'] = df[gt].apply(lambda x: 2 if x.startswith('1/1') else 1)\n",
    "\n",
    "    # Group by gene and calculate the sum of variant counts\n",
    "    gene_variant_counts = df.groupby(genes_col)['variant_count'].sum()\n",
    "\n",
    "    # Initialize variant counts for all genes, defaulting to 0\n",
    "    variant_counts = {gene: 0 for gene in categories}\n",
    "\n",
    "    # Update the variant counts for the genes present in the current file\n",
    "    for gene in categories:\n",
    "        if gene in gene_variant_counts.index:\n",
    "            variant_counts[gene] = gene_variant_counts[gene]\n",
    "\n",
    "    # Set label: 1 for cases, 0 for control\n",
    "    label = 1 if \"cases\" in file else 0\n",
    "\n",
    "    # Create a row for the current patient\n",
    "    result_row = pd.DataFrame([[patient_id] + list(variant_counts.values()) + [label]], columns=['patient_id'] + categories + ['label'])\n",
    "\n",
    "    # Append the result to the final dataframe\n",
    "    final_results = pd.concat([final_results, result_row], ignore_index=True)\n",
    "\n",
    "# Shuffle the results and reset the index\n",
    "final_results = final_results.sample(frac=1, random_state=42).reset_index(drop=True)\n",
    "\n",
    "# Save the final results to CSV\n",
    "final_results.to_csv(vcf_path + \"/GeneVariantsCounts.csv\", index=False)\n",
    "\n",
    "# Print the final results\n",
    "print(final_results)\n"
   ]
  }
 ],
 "metadata": {
  "kernelspec": {
   "display_name": "capstone_env",
   "language": "python",
   "name": "python3"
  },
  "language_info": {
   "codemirror_mode": {
    "name": "ipython",
    "version": 3
   },
   "file_extension": ".py",
   "mimetype": "text/x-python",
   "name": "python",
   "nbconvert_exporter": "python",
   "pygments_lexer": "ipython3",
   "version": "3.10.12"
  }
 },
 "nbformat": 4,
 "nbformat_minor": 2
}
