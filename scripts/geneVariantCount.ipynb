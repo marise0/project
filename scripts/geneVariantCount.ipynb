{
 "cells": [
  {
   "cell_type": "code",
   "execution_count": 2,
   "metadata": {},
   "outputs": [],
   "source": [
    "import pandas as pd\n",
    "import glob\n",
    "import os\n",
    "import sys\n",
    "sys.path.append(os.path.abspath(os.path.join('..')))\n",
    "from config import *"
   ]
  },
  {
   "cell_type": "code",
   "execution_count": 56,
   "metadata": {},
   "outputs": [],
   "source": [
    "#path to txt files\n",
    "file_path = output_path+'/*multianno.txt'\n",
    "#list all txt files\n",
    "files = glob.glob(file_path)"
   ]
  },
  {
   "cell_type": "code",
   "execution_count": 83,
   "metadata": {},
   "outputs": [],
   "source": [
    "categories = ['exonic', 'UTR3', 'UTR5', 'ncRNA_exonic', 'ncRNA_intronic', 'upstream', 'downstream', 'intronic', 'splicing']\n",
    "final_results = pd.DataFrame(columns=['patient_id'] + categories)"
   ]
  },
  {
   "cell_type": "code",
   "execution_count": null,
   "metadata": {},
   "outputs": [
    {
     "name": "stdout",
     "output_type": "stream",
     "text": [
      "      patient_id exonic UTR3 UTR5 ncRNA_exonic ncRNA_intronic upstream  \\\n",
      "0  RAW-20D0006FP      1    0    0            0              0        0   \n",
      "1  RAW-21A0008MP      0    0    0            0              0        0   \n",
      "2  RAW-21E0003FP      1    1    0            0              0        0   \n",
      "\n",
      "  downstream intronic splicing  \n",
      "0          0       21        0  \n",
      "1          0        2        0  \n",
      "2          0        3        0  \n"
     ]
    }
   ],
   "source": [
    "target_gene = 'ATAD3B'\n",
    "for file in files:\n",
    "    df = pd.read_csv(file, sep=\"\\t\", usecols=[0, 1, 2, 3, 4, 5, 6, 8], low_memory=False)\n",
    "    patient_id = file.split(\"/\")[-1].replace(\"-EXOME-ES.hg19_multianno.txt\", \"\")\n",
    "    function_col ='Func.refGene'\n",
    "    genes_col='Gene.refGene'\n",
    "    df_filtered = df[df[genes_col].str.contains(r'\\b' + target_gene + r'\\b', case=False)]\n",
    "    df_filtered = df_filtered[df_filtered['ExonicFunc.refGene'] != 'synonymous SNV']\n",
    "    variant_counts = df_filtered[function_col].value_counts().reindex(categories, fill_value=0)\n",
    "    result_row = pd.DataFrame([[patient_id] + list(variant_counts)], columns=['patient_id'] + categories)\n",
    "    final_results = pd.concat([final_results, result_row], ignore_index=True)\n",
    "final_results.to_csv(vcf_path+\"/gene_variant_counts.csv\", index=False)\n",
    "print(final_results)"
   ]
  }
 ],
 "metadata": {
  "kernelspec": {
   "display_name": "capstone",
   "language": "python",
   "name": "python3"
  },
  "language_info": {
   "codemirror_mode": {
    "name": "ipython",
    "version": 3
   },
   "file_extension": ".py",
   "mimetype": "text/x-python",
   "name": "python",
   "nbconvert_exporter": "python",
   "pygments_lexer": "ipython3",
   "version": "3.10.12"
  }
 },
 "nbformat": 4,
 "nbformat_minor": 2
}
