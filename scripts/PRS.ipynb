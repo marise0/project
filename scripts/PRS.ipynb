{
 "cells": [
  {
   "cell_type": "code",
   "execution_count": 3,
   "id": "d7c708df",
   "metadata": {},
   "outputs": [],
   "source": [
    "import sys \n",
    "import os\n",
    "sys.path.append(os.path.abspath(os.path.join(\"..\")))\n",
    "from config import *\n",
    "import pandas as pd"
   ]
  },
  {
   "cell_type": "code",
   "execution_count": 9,
   "id": "3c8811fd",
   "metadata": {},
   "outputs": [],
   "source": [
    "genes = pd.read_csv(vcf_path + \"/GenotypeCounts.csv\")\n",
    "scores = pd.read_csv(vcf_path + \"/aggregated_scores.txt\", sep=\"\\t\")"
   ]
  },
  {
   "cell_type": "code",
   "execution_count": null,
   "id": "6fed72bf",
   "metadata": {},
   "outputs": [],
   "source": [
    "# Merge the two dataframes based on matching IID and patient_id\n",
    "genes = genes.merge(scores[['IID', 'AVG']], left_on='patient_id', right_on='IID', how='left')\n",
    "genes.drop(columns='IID', inplace=True)"
   ]
  },
  {
   "cell_type": "code",
   "execution_count": 15,
   "id": "83fff6ee",
   "metadata": {},
   "outputs": [],
   "source": [
    "genes.to_csv(vcf_path + \"/GenotypeCounts_PRS.csv\", index=False)"
   ]
  }
 ],
 "metadata": {
  "kernelspec": {
   "display_name": "capstone_env",
   "language": "python",
   "name": "python3"
  },
  "language_info": {
   "codemirror_mode": {
    "name": "ipython",
    "version": 3
   },
   "file_extension": ".py",
   "mimetype": "text/x-python",
   "name": "python",
   "nbconvert_exporter": "python",
   "pygments_lexer": "ipython3",
   "version": "3.10.12"
  }
 },
 "nbformat": 4,
 "nbformat_minor": 5
}
